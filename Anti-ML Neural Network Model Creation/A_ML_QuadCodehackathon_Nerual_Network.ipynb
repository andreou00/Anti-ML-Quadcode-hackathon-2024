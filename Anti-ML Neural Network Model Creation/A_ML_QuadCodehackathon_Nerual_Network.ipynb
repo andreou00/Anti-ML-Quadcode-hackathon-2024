{
  "nbformat": 4,
  "nbformat_minor": 0,
  "metadata": {
    "colab": {
      "provenance": []
    },
    "kernelspec": {
      "name": "python3",
      "display_name": "Python 3"
    },
    "language_info": {
      "name": "python"
    }
  },
  "cells": [
    {
      "cell_type": "code",
      "source": [
        "import pandas as pd\n",
        "from sklearn.model_selection import train_test_split\n",
        "from sklearn.preprocessing import LabelEncoder, StandardScaler\n",
        "from tensorflow.keras.models import Sequential\n",
        "from tensorflow.keras.layers import Dense\n",
        "from tensorflow.keras.utils import to_categorical\n",
        "from sklearn.metrics import classification_report, accuracy_score, confusion_matrix\n",
        "import matplotlib.pyplot as plt\n",
        "import seaborn as sns\n",
        "\n",
        "# Define the data preprocessing function\n",
        "def preprocess_data(file_path):\n",
        "    # Load the dataset\n",
        "    df = pd.read_csv(file_path)\n",
        "\n",
        "    # Encode categorical columns\n",
        "    action_label_encoder = LabelEncoder()\n",
        "    df['typeofaction'] = action_label_encoder.fit_transform(df['typeofaction'])\n",
        "\n",
        "    # Convert date to datetime\n",
        "    df['date'] = pd.to_datetime(df['date'])\n",
        "\n",
        "    # Extract date features\n",
        "    df['year'] = df['date'].dt.year\n",
        "    df['month'] = df['date'].dt.month\n",
        "    df['day'] = df['date'].dt.day\n",
        "    df['hour'] = df['date'].dt.hour\n",
        "    df['minute'] = df['date'].dt.minute\n",
        "\n",
        "    # Split the data into features and target\n",
        "    X = df.drop(columns=['isfraud', 'typeoffraud', 'date'])\n",
        "    y = df['isfraud']\n",
        "\n",
        "    # Normalize the features\n",
        "    scaler = StandardScaler()\n",
        "    X = scaler.fit_transform(X)\n",
        "\n",
        "    # Convert target variable to categorical\n",
        "    y = to_categorical(y)\n",
        "\n",
        "    # Split the data into training and testing sets\n",
        "    X_train, X_test, y_train, y_test = train_test_split(X, y, test_size=0.2, random_state=42)\n",
        "\n",
        "    return X_train, X_test, y_train, y_test\n",
        "\n",
        "# Preprocess the data\n",
        "file_path = 'generated_transactions.csv'\n",
        "X_train, X_test, y_train, y_test = preprocess_data(file_path)\n",
        "\n",
        "# Build the neural network model\n",
        "model = Sequential()\n",
        "model.add(Dense(64, input_dim=X_train.shape[1], activation='relu'))\n",
        "model.add(Dense(32, activation='relu'))\n",
        "model.add(Dense(y_train.shape[1], activation='softmax'))\n",
        "\n",
        "# Compile the model\n",
        "model.compile(loss='categorical_crossentropy', optimizer='adam', metrics=['accuracy'])\n",
        "\n",
        "# Train the model\n",
        "model.fit(X_train, y_train, epochs=20, batch_size=32, validation_split=0.2)\n",
        "\n",
        "# Predict on the test set\n",
        "y_pred = model.predict(X_test)\n",
        "y_pred_classes = y_pred.argmax(axis=-1)\n",
        "y_test_classes = y_test.argmax(axis=-1)\n",
        "\n",
        "# Get the correct target names\n",
        "target_names = ['not_fraud', 'fraud']\n",
        "\n",
        "# Print classification report\n",
        "print(\"Classification Report:\")\n",
        "print(classification_report(y_test_classes, y_pred_classes, target_names=target_names))\n",
        "\n",
        "# Print accuracy\n",
        "accuracy = accuracy_score(y_test_classes, y_pred_classes)\n",
        "print(f\"Accuracy: {accuracy:.4f}\")\n",
        "\n",
        "# Print confusion matrix\n",
        "conf_matrix = confusion_matrix(y_test_classes, y_pred_classes)\n",
        "print(\"Confusion Matrix:\")\n",
        "print(conf_matrix)\n",
        "\n",
        "# Plot confusion matrix\n",
        "def plot_confusion_matrix(conf_matrix, target_names):\n",
        "    plt.figure(figsize=(10, 8))\n",
        "    sns.heatmap(conf_matrix, annot=True, fmt='d', cmap='Blues', xticklabels=target_names, yticklabels=target_names)\n",
        "    plt.xlabel('Predicted')\n",
        "    plt.ylabel('True')\n",
        "    plt.title('Confusion Matrix')\n",
        "    plt.show()\n",
        "\n",
        "plot_confusion_matrix(conf_matrix, target_names)\n"
      ],
      "metadata": {
        "colab": {
          "base_uri": "https://localhost:8080/",
          "height": 1000
        },
        "id": "y-2g4y9cL6b3",
        "outputId": "b8d8b645-4152-4a14-aabf-8ef1bc773e07"
      },
      "execution_count": null,
      "outputs": [
        {
          "output_type": "stream",
          "name": "stdout",
          "text": [
            "Epoch 1/20\n",
            "300/300 [==============================] - 4s 8ms/step - loss: 0.3769 - accuracy: 0.7734 - val_loss: 0.2649 - val_accuracy: 0.8708\n",
            "Epoch 2/20\n",
            "300/300 [==============================] - 2s 7ms/step - loss: 0.1933 - accuracy: 0.9164 - val_loss: 0.1538 - val_accuracy: 0.9400\n",
            "Epoch 3/20\n",
            "300/300 [==============================] - 1s 2ms/step - loss: 0.1422 - accuracy: 0.9398 - val_loss: 0.1286 - val_accuracy: 0.9500\n",
            "Epoch 4/20\n",
            "300/300 [==============================] - 1s 2ms/step - loss: 0.1255 - accuracy: 0.9476 - val_loss: 0.1242 - val_accuracy: 0.9529\n",
            "Epoch 5/20\n",
            "300/300 [==============================] - 1s 2ms/step - loss: 0.1178 - accuracy: 0.9510 - val_loss: 0.1160 - val_accuracy: 0.9579\n",
            "Epoch 6/20\n",
            "300/300 [==============================] - 2s 5ms/step - loss: 0.1089 - accuracy: 0.9571 - val_loss: 0.1083 - val_accuracy: 0.9550\n",
            "Epoch 7/20\n",
            "300/300 [==============================] - 2s 5ms/step - loss: 0.1057 - accuracy: 0.9589 - val_loss: 0.1109 - val_accuracy: 0.9529\n",
            "Epoch 8/20\n",
            "300/300 [==============================] - 2s 6ms/step - loss: 0.0989 - accuracy: 0.9622 - val_loss: 0.1070 - val_accuracy: 0.9558\n",
            "Epoch 9/20\n",
            "300/300 [==============================] - 2s 5ms/step - loss: 0.0980 - accuracy: 0.9630 - val_loss: 0.1028 - val_accuracy: 0.9625\n",
            "Epoch 10/20\n",
            "300/300 [==============================] - 2s 6ms/step - loss: 0.0974 - accuracy: 0.9629 - val_loss: 0.0985 - val_accuracy: 0.9646\n",
            "Epoch 11/20\n",
            "300/300 [==============================] - 3s 11ms/step - loss: 0.0930 - accuracy: 0.9665 - val_loss: 0.1033 - val_accuracy: 0.9646\n",
            "Epoch 12/20\n",
            "300/300 [==============================] - 2s 6ms/step - loss: 0.0929 - accuracy: 0.9672 - val_loss: 0.0970 - val_accuracy: 0.9629\n",
            "Epoch 13/20\n",
            "300/300 [==============================] - 2s 7ms/step - loss: 0.0925 - accuracy: 0.9656 - val_loss: 0.1032 - val_accuracy: 0.9608\n",
            "Epoch 14/20\n",
            "300/300 [==============================] - 2s 6ms/step - loss: 0.0908 - accuracy: 0.9673 - val_loss: 0.0952 - val_accuracy: 0.9638\n",
            "Epoch 15/20\n",
            "300/300 [==============================] - 2s 6ms/step - loss: 0.0893 - accuracy: 0.9672 - val_loss: 0.0936 - val_accuracy: 0.9663\n",
            "Epoch 16/20\n",
            "300/300 [==============================] - 2s 5ms/step - loss: 0.0892 - accuracy: 0.9663 - val_loss: 0.0986 - val_accuracy: 0.9650\n",
            "Epoch 17/20\n",
            "300/300 [==============================] - 1s 3ms/step - loss: 0.0868 - accuracy: 0.9673 - val_loss: 0.1042 - val_accuracy: 0.9646\n",
            "Epoch 18/20\n",
            "300/300 [==============================] - 1s 4ms/step - loss: 0.0876 - accuracy: 0.9688 - val_loss: 0.0974 - val_accuracy: 0.9646\n",
            "Epoch 19/20\n",
            "300/300 [==============================] - 2s 6ms/step - loss: 0.0865 - accuracy: 0.9689 - val_loss: 0.0988 - val_accuracy: 0.9642\n",
            "Epoch 20/20\n",
            "300/300 [==============================] - 2s 7ms/step - loss: 0.0859 - accuracy: 0.9682 - val_loss: 0.0929 - val_accuracy: 0.9633\n",
            "94/94 [==============================] - 0s 2ms/step\n",
            "Classification Report:\n",
            "              precision    recall  f1-score   support\n",
            "\n",
            "   not_fraud       0.99      0.95      0.97      1515\n",
            "       fraud       0.95      0.99      0.97      1485\n",
            "\n",
            "    accuracy                           0.97      3000\n",
            "   macro avg       0.97      0.97      0.97      3000\n",
            "weighted avg       0.97      0.97      0.97      3000\n",
            "\n",
            "Accuracy: 0.9683\n",
            "Confusion Matrix:\n",
            "[[1438   77]\n",
            " [  18 1467]]\n"
          ]
        },
        {
          "output_type": "display_data",
          "data": {
            "text/plain": [
              "<Figure size 1000x800 with 2 Axes>"
            ],
            "image/png": "[encoded data removed]"
          },
          "metadata": {}
        }
      ]
    },
    {
      "cell_type": "code",
      "source": [
        "# Save the model to an HDF5 file\n",
        "model.save('Anti_ML_model.h5')\n",
        "\n",
        "print(\"Model saved successfully.\")"
      ],
      "metadata": {
        "colab": {
          "base_uri": "https://localhost:8080/"
        },
        "id": "qZ41TZx-MziJ",
        "outputId": "17d6ed25-4910-42e9-e521-3abfd54ce38f"
      },
      "execution_count": null,
      "outputs": [
        {
          "output_type": "stream",
          "name": "stdout",
          "text": [
            "Model saved successfully.\n"
          ]
        },
        {
          "output_type": "stream",
          "name": "stderr",
          "text": [
            "/usr/local/lib/python3.10/dist-packages/keras/src/engine/training.py:3103: UserWarning: You are saving your model as an HDF5 file via `model.save()`. This file format is considered legacy. We recommend using instead the native Keras format, e.g. `model.save('my_model.keras')`.\n",
            "  saving_api.save_model(\n"
          ]
        }
      ]
    }
  ]
}